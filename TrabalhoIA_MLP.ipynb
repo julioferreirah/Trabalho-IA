{
  "nbformat": 4,
  "nbformat_minor": 0,
  "metadata": {
    "colab": {
      "provenance": [],
      "toc_visible": true,
      "include_colab_link": true
    },
    "kernelspec": {
      "name": "python3",
      "display_name": "Python 3"
    },
    "language_info": {
      "name": "python"
    }
  },
  "cells": [
    {
      "cell_type": "markdown",
      "metadata": {
        "id": "view-in-github",
        "colab_type": "text"
      },
      "source": [
        "<a href=\"https://colab.research.google.com/github/julioferreirah/Trabalho-IA/blob/main/TrabalhoIA_MLP.ipynb\" target=\"_parent\"><img src=\"https://colab.research.google.com/assets/colab-badge.svg\" alt=\"Open In Colab\"/></a>"
      ]
    },
    {
      "cell_type": "markdown",
      "source": [
        "# Trabalho de Inteligência Artificial - Implementação de MLP"
      ],
      "metadata": {
        "id": "ATXSCBf5_w49"
      }
    },
    {
      "cell_type": "markdown",
      "source": [
        "## Construção do Modelo"
      ],
      "metadata": {
        "id": "pD5VsiaKATDT"
      }
    },
    {
      "cell_type": "code",
      "execution_count": null,
      "metadata": {
        "id": "VyAEkVVu_h3W"
      },
      "outputs": [],
      "source": [
        "import numpy as np\n",
        "import time as t\n",
        "# Função de ativação sigmóide\n",
        "def sigmoide(x):\n",
        "    return 1 / (1 + np.exp(-x))\n",
        "\n",
        "# Função de perda - Erro Quadrático Médio\n",
        "def erro_quadratico(y_dado, y_predito):\n",
        "    return ((y_dado- y_predito) ** 2).mean() # média do quadrado de cada erro de uma entrada\n",
        "\n",
        "class MLP:\n",
        "    def __init__(self, tamanho_entrada, tamanho_escondida, tamanho_saida):\n",
        "        # Inicialização dos pesos\n",
        "        self.W1 = np.random.randn(tamanho_entrada, tamanho_escondida) # pesos primeira camada\n",
        "        self.b1 = np.zeros((1, tamanho_escondida)) # bias primeira camada\n",
        "        self.W2 = np.random.randn(tamanho_escondida, tamanho_saida) # pesos segunda camada\n",
        "        self.b2 = np.zeros((1, tamanho_saida)) # bias segunda camada\n",
        "\n",
        "    def feedforward(self, X):\n",
        "        # Camada oculta\n",
        "        self.z1 = np.dot(X, self.W1) + self.b1 # multiplicação de matriz equivale a soma ponderada\n",
        "        self.a1 = sigmoide(self.z1) # funcao de ativacao\n",
        "\n",
        "        # Camada de saída\n",
        "        self.z2 = np.dot(self.a1, self.W2) + self.b2\n",
        "        self.a2 = sigmoide(self.z2)\n",
        "\n",
        "        return self.a2\n",
        "\n",
        "    def backpropagation(self, X, y, y_predito, taxa_aprendizado):\n",
        "        # Gradiente da camada de saída\n",
        "        delta2 = (y_predito - y) * sigmoide(self.z2) * (1 - sigmoide(self.z2)) #erro + direção inversa (equivalente a derivada)\n",
        "        dW2 = np.dot(self.a1.T, delta2) # 'peso' do erro (+direcao) na matriz de peso\n",
        "        db2 = delta2.sum(axis=0, keepdims=True) # 'peso' do erro no bias\n",
        "\n",
        "        # Gradiente da camada oculta\n",
        "        delta1 = np.dot(delta2, self.W2.T) * sigmoide(self.z1) * (1 - sigmoide(self.z1))\n",
        "        dW1 = np.dot(X.T, delta1)\n",
        "        db1 = delta1.sum(axis=0)\n",
        "\n",
        "        # Atualização dos pesos\n",
        "        self.W2 -= taxa_aprendizado * dW2 #aplicacao da taxa de aprendizado ao erro direcionado ao inverso \n",
        "        self.b2 -= taxa_aprendizado * db2\n",
        "        self.W1 -= taxa_aprendizado * dW1\n",
        "        self.b1 -= taxa_aprendizado * db1\n",
        "\n",
        "    def train(self, X, y, epochs, taxa_aprendizado):\n",
        "        for i in range(epochs):\n",
        "            # Feedforward\n",
        "            y_predito = self.feedforward(X)\n",
        "\n",
        "            # Backpropagation\n",
        "            self.backpropagation(X, y, y_predito, taxa_aprendizado)\n",
        "\n",
        "            # Cálculo do erro\n",
        "            loss = erro_quadratico(y, y_predito)\n",
        "\n",
        "            # Impressão do erro a cada 1000 épocas\n",
        "            if i % 1000 == 0:\n",
        "                print(f\"Epoch {i}: loss = {loss:.4f}\")\n",
        "\n",
        "        return tf-t0"
      ]
    }
  ]
}